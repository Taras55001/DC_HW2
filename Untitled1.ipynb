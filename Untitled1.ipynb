{
 "cells": [
  {
   "cell_type": "code",
   "execution_count": 2,
   "id": "b995d378-91ad-4ace-b4f8-d7d9c2695eb8",
   "metadata": {},
   "outputs": [],
   "source": [
    "#Прочитайте csv файл (використовуйте функцію read_csv)\n",
    "import pandas as pd\n",
    "df = pd.read_csv('./bestsellers with categories.csv')"
   ]
  },
  {
   "cell_type": "code",
   "execution_count": 3,
   "id": "c51b88c7-3932-414c-b9c4-fb7cc0225f82",
   "metadata": {},
   "outputs": [
    {
     "data": {
      "text/html": [
       "<div>\n",
       "<style scoped>\n",
       "    .dataframe tbody tr th:only-of-type {\n",
       "        vertical-align: middle;\n",
       "    }\n",
       "\n",
       "    .dataframe tbody tr th {\n",
       "        vertical-align: top;\n",
       "    }\n",
       "\n",
       "    .dataframe thead th {\n",
       "        text-align: right;\n",
       "    }\n",
       "</style>\n",
       "<table border=\"1\" class=\"dataframe\">\n",
       "  <thead>\n",
       "    <tr style=\"text-align: right;\">\n",
       "      <th></th>\n",
       "      <th>Name</th>\n",
       "      <th>Author</th>\n",
       "      <th>User Rating</th>\n",
       "      <th>Reviews</th>\n",
       "      <th>Price</th>\n",
       "      <th>Year</th>\n",
       "      <th>Genre</th>\n",
       "    </tr>\n",
       "  </thead>\n",
       "  <tbody>\n",
       "    <tr>\n",
       "      <th>0</th>\n",
       "      <td>10-Day Green Smoothie Cleanse</td>\n",
       "      <td>JJ Smith</td>\n",
       "      <td>4.7</td>\n",
       "      <td>17350</td>\n",
       "      <td>8</td>\n",
       "      <td>2016</td>\n",
       "      <td>Non Fiction</td>\n",
       "    </tr>\n",
       "    <tr>\n",
       "      <th>1</th>\n",
       "      <td>11/22/63: A Novel</td>\n",
       "      <td>Stephen King</td>\n",
       "      <td>4.6</td>\n",
       "      <td>2052</td>\n",
       "      <td>22</td>\n",
       "      <td>2011</td>\n",
       "      <td>Fiction</td>\n",
       "    </tr>\n",
       "    <tr>\n",
       "      <th>2</th>\n",
       "      <td>12 Rules for Life: An Antidote to Chaos</td>\n",
       "      <td>Jordan B. Peterson</td>\n",
       "      <td>4.7</td>\n",
       "      <td>18979</td>\n",
       "      <td>15</td>\n",
       "      <td>2018</td>\n",
       "      <td>Non Fiction</td>\n",
       "    </tr>\n",
       "    <tr>\n",
       "      <th>3</th>\n",
       "      <td>1984 (Signet Classics)</td>\n",
       "      <td>George Orwell</td>\n",
       "      <td>4.7</td>\n",
       "      <td>21424</td>\n",
       "      <td>6</td>\n",
       "      <td>2017</td>\n",
       "      <td>Fiction</td>\n",
       "    </tr>\n",
       "    <tr>\n",
       "      <th>4</th>\n",
       "      <td>5,000 Awesome Facts (About Everything!) (Natio...</td>\n",
       "      <td>National Geographic Kids</td>\n",
       "      <td>4.8</td>\n",
       "      <td>7665</td>\n",
       "      <td>12</td>\n",
       "      <td>2019</td>\n",
       "      <td>Non Fiction</td>\n",
       "    </tr>\n",
       "  </tbody>\n",
       "</table>\n",
       "</div>"
      ],
      "text/plain": [
       "                                                Name  \\\n",
       "0                      10-Day Green Smoothie Cleanse   \n",
       "1                                  11/22/63: A Novel   \n",
       "2            12 Rules for Life: An Antidote to Chaos   \n",
       "3                             1984 (Signet Classics)   \n",
       "4  5,000 Awesome Facts (About Everything!) (Natio...   \n",
       "\n",
       "                     Author  User Rating  Reviews  Price  Year        Genre  \n",
       "0                  JJ Smith          4.7    17350      8  2016  Non Fiction  \n",
       "1              Stephen King          4.6     2052     22  2011      Fiction  \n",
       "2        Jordan B. Peterson          4.7    18979     15  2018  Non Fiction  \n",
       "3             George Orwell          4.7    21424      6  2017      Fiction  \n",
       "4  National Geographic Kids          4.8     7665     12  2019  Non Fiction  "
      ]
     },
     "execution_count": 3,
     "metadata": {},
     "output_type": "execute_result"
    }
   ],
   "source": [
    "#Виведіть перші п'ять рядків (використовується функція head)\n",
    "df.head()"
   ]
  },
  {
   "cell_type": "code",
   "execution_count": 5,
   "id": "10fe5810-f7a8-4824-a15b-d2b8c26399eb",
   "metadata": {},
   "outputs": [
    {
     "name": "stdout",
     "output_type": "stream",
     "text": [
      "Розмір датасету: (550, 7)\n"
     ]
    }
   ],
   "source": [
    "#Виведіть розміри датасету (використовуйте атрибут shape)\n",
    "print('Розмір датасету:', df.shape)"
   ]
  },
  {
   "cell_type": "code",
   "execution_count": 6,
   "id": "4d979803-2ce4-43b1-8ab2-69465c3e3f82",
   "metadata": {},
   "outputs": [],
   "source": [
    "df.columns = ['name', 'author', 'user_rating', 'reviews', 'price', 'year', 'genre']"
   ]
  },
  {
   "cell_type": "code",
   "execution_count": 14,
   "id": "185ff301-4a45-4391-bf4e-4ae0a501b174",
   "metadata": {},
   "outputs": [
    {
     "name": "stdout",
     "output_type": "stream",
     "text": [
      "Чи є в якихось змінних пропуски? (Так / ні)\n",
      "ні\n"
     ]
    }
   ],
   "source": [
    "#Відповідь: \n",
    "print('Чи є в якихось змінних пропуски? (Так / ні)')\n",
    "if df.isna().any().any():\n",
    "    print('Так')\n",
    "else:\n",
    "    print('ні')"
   ]
  },
  {
   "cell_type": "code",
   "execution_count": 15,
   "id": "7eabb0c9-ac03-4b29-800f-d2174884e2fa",
   "metadata": {},
   "outputs": [
    {
     "name": "stdout",
     "output_type": "stream",
     "text": [
      "Які є унікальні жанри?\n",
      "Non Fiction\n",
      "Fiction\n"
     ]
    }
   ],
   "source": [
    "#Відповідь: \n",
    "print('Які є унікальні жанри?')\n",
    "unique_genres = df['genre'].unique()\n",
    "for genre in unique_genres:\n",
    "    print(genre)"
   ]
  },
  {
   "cell_type": "code",
   "execution_count": 16,
   "id": "5b72101b-f22a-4905-8044-91eca5c0149b",
   "metadata": {},
   "outputs": [
    {
     "data": {
      "image/png": "[encoded data removed]",
      "text/plain": [
       "<Figure size 640x480 with 1 Axes>"
      ]
     },
     "metadata": {},
     "output_type": "display_data"
    },
    {
     "name": "stdout",
     "output_type": "stream",
     "text": [
      "Максимальна ціна: 105\n",
      "Мінімальна ціна: 0\n",
      "Середня ціна: 13.1\n",
      "Медіанна ціна: 11.0\n"
     ]
    }
   ],
   "source": [
    "#Тепер подивіться на розподіл цін: побудуйте діаграму (використовуйте kind='hist')\n",
    "import matplotlib.pyplot as plt\n",
    "\n",
    "df['price'].plot(kind='hist', bins=20, edgecolor='black')\n",
    "plt.xlabel('Ціна')\n",
    "plt.ylabel('Частота')\n",
    "plt.title('Розподіл цін')\n",
    "plt.show()\n",
    "\n",
    "max_price = df['price'].max()\n",
    "min_price = df['price'].min()\n",
    "mean_price = df['price'].mean()\n",
    "median_price = df['price'].median()\n",
    "\n",
    "print(f\"Максимальна ціна: {max_price}\")\n",
    "print(f\"Мінімальна ціна: {min_price}\")\n",
    "print(f\"Середня ціна: {mean_price}\")\n",
    "print(f\"Медіанна ціна: {median_price}\")\n"
   ]
  },
  {
   "cell_type": "code",
   "execution_count": 18,
   "id": "9467038f-78d4-4321-99a7-a1ae339d3338",
   "metadata": {},
   "outputs": [
    {
     "name": "stdout",
     "output_type": "stream",
     "text": [
      "Найвищий рейтинг у датасеті: 4.9\n"
     ]
    }
   ],
   "source": [
    "# Який рейтинг у датасеті найвищий?\n",
    "highest_rating = df['user_rating'].max()\n",
    "print(f\"Найвищий рейтинг у датасеті: {highest_rating}\")"
   ]
  },
  {
   "cell_type": "code",
   "execution_count": 19,
   "id": "01b9abce-f9c8-4ce5-81ee-ca49cc076f8f",
   "metadata": {},
   "outputs": [
    {
     "name": "stdout",
     "output_type": "stream",
     "text": [
      "Кількість книг з найвищим рейтингом: 52\n"
     ]
    }
   ],
   "source": [
    "#Скільки книг мають такий рейтинг?\n",
    "count_highest_rating = (df['user_rating'] == highest_rating).sum()\n",
    "print(f\"Кількість книг з найвищим рейтингом: {count_highest_rating}\")"
   ]
  },
  {
   "cell_type": "code",
   "execution_count": 76,
   "id": "511ee0c0-093e-4f08-ad9e-db31a61f3657",
   "metadata": {},
   "outputs": [
    {
     "name": "stdout",
     "output_type": "stream",
     "text": [
      "Книга з найбільшою кількістю відгуків: Where the Crawdads Sing\n"
     ]
    }
   ],
   "source": [
    "#Яка книга має найбільше відгуків?\n",
    "book_with_most_reviews = df[df['reviews'] == df['reviews'].max()]\n",
    "print(f\"Книга з найбільшою кількістю відгуків: {book_with_most_reviews.iloc[0]['name']}\")"
   ]
  },
  {
   "cell_type": "code",
   "execution_count": 88,
   "id": "d2cb1ba0-12cf-42bd-a67b-29bcae4db788",
   "metadata": {},
   "outputs": [
    {
     "name": "stdout",
     "output_type": "stream",
     "text": [
      "Найдорожча книга серед тих, що потрапили до Топ-50 у 2015 році:\n",
      "Publication Manual of the American Psychological Association, 6th Edition\n"
     ]
    }
   ],
   "source": [
    "# З тих книг, що потрапили до Топ-50 у 2015 році, яка книга найдорожча (можна використати проміжний датафрейм)?\n",
    "top_50_2015 = df[(df['year'] == 2015)].sort_values('price', ascending=False).nlargest(50, 'user_rating').reset_index()\n",
    "most_expensive_book_in_2015_top_50 = top_50_2015[top_50_2015['price'] == top_50_2015['price'].max()]\n",
    "print(f\"Найдорожча книга серед тих, що потрапили до Топ-50 у 2015 році:\")\n",
    "print(most_expensive_book_in_2015_top_50.iloc[0]['name'])"
   ]
  },
  {
   "cell_type": "code",
   "execution_count": 89,
   "id": "0648a4f9-51c7-44cc-98b8-0b4139b95856",
   "metadata": {},
   "outputs": [
    {
     "name": "stdout",
     "output_type": "stream",
     "text": [
      "Кількість книг жанру Fiction у Топ-50 за рейтингом у 2010 році: 20\n"
     ]
    }
   ],
   "source": [
    "#Скільки книг жанру Fiction потрапили до Топ-50 у 2010 році (використовуйте &)?\n",
    "count_fiction_books_in_2010_top_50 = len(df[(df['genre'] == 'Fiction') & (df['year'] == 2010)].nlargest(50, 'user_rating'))\n",
    "print(f\"Кількість книг жанру Fiction у Топ-50 за рейтингом у 2010 році: {count_fiction_books_in_2010_top_50}\")"
   ]
  },
  {
   "cell_type": "code",
   "execution_count": 90,
   "id": "f171ddf2-b253-4e0d-9143-2d5a9e092b85",
   "metadata": {},
   "outputs": [
    {
     "name": "stdout",
     "output_type": "stream",
     "text": [
      "Кількість книг з рейтингом 4.9, що потрапили до рейтингу у 2010 та 2011 роках: 1\n"
     ]
    }
   ],
   "source": [
    "#Скільки книг з рейтингом 4.9 потрапило до рейтингу у 2010 та 2011 роках (використовуйте | або функцію isin)?\n",
    "count_books_with_rating_4_9_in_2010_2011 = len(df[(df['user_rating'] == 4.9) & (df['year'].isin([2010, 2011]))])\n",
    "print(f\"Кількість книг з рейтингом 4.9, що потрапили до рейтингу у 2010 та 2011 роках: {count_books_with_rating_4_9_in_2010_2011}\")"
   ]
  },
  {
   "cell_type": "code",
   "execution_count": 91,
   "id": "6afa04f2-12c2-4805-881c-bc41dbfdf450",
   "metadata": {},
   "outputs": [
    {
     "name": "stdout",
     "output_type": "stream",
     "text": [
      "Всі книги, які потрапили до рейтингу в 2015 році та коштують менше за 8 доларів (відсортовані за зростанням ціни):\n",
      "    index                                               name  \\\n",
      "10    507                              To Kill a Mockingbird   \n",
      "16    123                               Giraffes Can't Dance   \n",
      "17     54  Creative Haven Creative Cats Coloring Book (Ad...   \n",
      "43    206                         Knock-Knock Jokes for Kids   \n",
      "20    111                                    First 100 Words   \n",
      "31    210                      Laugh-Out-Loud Jokes for Kids   \n",
      "0     478                        The Very Hungry Caterpillar   \n",
      "13     63                     Dear Zoo: A Lift-the-Flap Book   \n",
      "14     55  Creative Haven Owls Coloring Book (Adult Color...   \n",
      "15    224                                   Love You Forever   \n",
      "33     28                       Baby Touch and Feel: Animals   \n",
      "34     89  Dover Creative Haven Art Nouveau Animal Design...   \n",
      "35    201  Killing Reagan: The Violent Assault That Chang...   \n",
      "36     16  Adult Coloring Book: Stress Relieving Animal D...   \n",
      "19    376  The Four Agreements: A Practical Guide to Pers...   \n",
      "45     17     Adult Coloring Book: Stress Relieving Patterns   \n",
      "9     253              Old School (Diary of a Wimpy Kid #10)   \n",
      "\n",
      "                author  user_rating  reviews  price  year        genre  \n",
      "10          Harper Lee          4.8    26234      0  2015      Fiction  \n",
      "16       Giles Andreae          4.8    14038      4  2015      Fiction  \n",
      "17     Marjorie Sarnat          4.8     4022      4  2015  Non Fiction  \n",
      "43         Rob Elliott          4.5     3673      4  2015  Non Fiction  \n",
      "20        Roger Priddy          4.7    17323      4  2015  Non Fiction  \n",
      "31         Rob Elliott          4.6     6990      4  2015  Non Fiction  \n",
      "0           Eric Carle          4.9    19546      5  2015      Fiction  \n",
      "13        Rod Campbell          4.8    10922      5  2015      Fiction  \n",
      "14     Marjorie Sarnat          4.8     3871      5  2015  Non Fiction  \n",
      "15       Robert Munsch          4.8    18613      5  2015      Fiction  \n",
      "33                  DK          4.6     5360      5  2015  Non Fiction  \n",
      "34         Marty Noble          4.6     2134      5  2015  Non Fiction  \n",
      "35       Bill O'Reilly          4.6     5235      5  2015  Non Fiction  \n",
      "36  Blue Star Coloring          4.6     2925      6  2015  Non Fiction  \n",
      "19     Don Miguel Ruiz          4.7    23308      6  2015  Non Fiction  \n",
      "45  Blue Star Coloring          4.4     2951      6  2015  Non Fiction  \n",
      "9          Jeff Kinney          4.8     6169      7  2015      Fiction  \n"
     ]
    }
   ],
   "source": [
    "#І насамкінець, давайте відсортуємо за зростанням ціни всі книги, які потрапили до рейтингу в 2015 році \n",
    "#і коштують дешевше за 8 доларів (використовуйте функцію sort_values).\n",
    "sorted_books_2015_under_8_dollars = top_50_2015[top_50_2015['price'] < 8].sort_values(by='price')\n",
    "\n",
    "print(\"Всі книги, які потрапили до рейтингу в 2015 році та коштують менше за 8 доларів (відсортовані за зростанням ціни):\")\n",
    "print(sorted_books_2015_under_8_dollars)\n"
   ]
  },
  {
   "cell_type": "code",
   "execution_count": 92,
   "id": "0a7ae5e7-e71c-4e87-ba35-6ba0dfddd00c",
   "metadata": {},
   "outputs": [
    {
     "name": "stdout",
     "output_type": "stream",
     "text": [
      "Остання книга у відсортованому списку: Old School (Diary of a Wimpy Kid #10)\n"
     ]
    }
   ],
   "source": [
    "# Яка книга остання у відсортованому списку?\n",
    "last_book_in_sorted_list = sorted_books_2015_under_8_dollars.iloc[-1]['name']\n",
    "print(f\"Остання книга у відсортованому списку: {last_book_in_sorted_list}\")"
   ]
  },
  {
   "cell_type": "code",
   "execution_count": null,
   "id": "cb11648b-9828-4b40-b5f3-386872e8ae1f",
   "metadata": {},
   "outputs": [],
   "source": [
    "#Максимальна ціна для жанру Fiction\n"
   ]
  }
 ],
 "metadata": {
  "kernelspec": {
   "display_name": "Python 3 (ipykernel)",
   "language": "python",
   "name": "python3"
  },
  "language_info": {
   "codemirror_mode": {
    "name": "ipython",
    "version": 3
   },
   "file_extension": ".py",
   "mimetype": "text/x-python",
   "name": "python",
   "nbconvert_exporter": "python",
   "pygments_lexer": "ipython3",
   "version": "3.11.1"
  }
 },
 "nbformat": 4,
 "nbformat_minor": 5
}
